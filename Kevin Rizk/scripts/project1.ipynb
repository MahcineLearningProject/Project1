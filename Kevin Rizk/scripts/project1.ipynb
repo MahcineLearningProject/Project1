{
 "cells": [
  {
   "cell_type": "code",
   "execution_count": 2,
   "metadata": {},
   "outputs": [
    {
     "name": "stdout",
     "output_type": "stream",
     "text": [
      "The autoreload extension is already loaded. To reload it, use:\n",
      "  %reload_ext autoreload\n"
     ]
    }
   ],
   "source": [
    "# Useful starting lines\n",
    "%matplotlib inline\n",
    "import numpy as np\n",
    "import matplotlib.pyplot as plt\n",
    "from implementations import *\n",
    "from support_code import *\n",
    "%load_ext autoreload\n",
    "%autoreload 2"
   ]
  },
  {
   "cell_type": "markdown",
   "metadata": {},
   "source": [
    "## Load the training data into feature matrix, class labels, and event ids:"
   ]
  },
  {
   "cell_type": "code",
   "execution_count": 3,
   "metadata": {},
   "outputs": [],
   "source": [
    "from proj1_helpers import *"
   ]
  },
  {
   "cell_type": "code",
   "execution_count": 4,
   "metadata": {},
   "outputs": [],
   "source": [
    "from proj1_helpers import *\n",
    "DATA_TRAIN_PATH = '../data/train.csv' # TODO: download train data and supply path here \n",
    "y, tX, ids = load_csv_data(DATA_TRAIN_PATH)\n"
   ]
  },
  {
   "cell_type": "code",
   "execution_count": 153,
   "metadata": {},
   "outputs": [
    {
     "data": {
      "text/plain": [
       "<function python2.standardize_with_info(x, means, stds)>"
      ]
     },
     "execution_count": 153,
     "metadata": {},
     "output_type": "execute_result"
    }
   ],
   "source": [
    "standardize_with_info\n"
   ]
  },
  {
   "cell_type": "markdown",
   "metadata": {},
   "source": [
    "## Do your thing crazy machine learning thing here :) ..."
   ]
  },
  {
   "cell_type": "code",
   "execution_count": 243,
   "metadata": {},
   "outputs": [
    {
     "ename": "NameError",
     "evalue": "name 'tX2' is not defined",
     "output_type": "error",
     "traceback": [
      "\u001b[0;31m---------------------------------------------------------------------------\u001b[0m",
      "\u001b[0;31mNameError\u001b[0m                                 Traceback (most recent call last)",
      "\u001b[0;32m<ipython-input-243-82e149754115>\u001b[0m in \u001b[0;36m<module>\u001b[0;34m\u001b[0m\n\u001b[1;32m      5\u001b[0m \u001b[0mweigths4\u001b[0m\u001b[0;34m,\u001b[0m\u001b[0merror4\u001b[0m \u001b[0;34m=\u001b[0m \u001b[0mleast_squares\u001b[0m\u001b[0;34m(\u001b[0m\u001b[0my\u001b[0m\u001b[0;34m,\u001b[0m\u001b[0mtx\u001b[0m\u001b[0;34m)\u001b[0m\u001b[0;34m\u001b[0m\u001b[0;34m\u001b[0m\u001b[0m\n\u001b[1;32m      6\u001b[0m \u001b[0mweights3\u001b[0m\u001b[0;34m,\u001b[0m \u001b[0merror3\u001b[0m \u001b[0;34m=\u001b[0m \u001b[0mleast_squares\u001b[0m\u001b[0;34m(\u001b[0m\u001b[0my\u001b[0m\u001b[0;34m,\u001b[0m\u001b[0mtX3\u001b[0m\u001b[0;34m)\u001b[0m\u001b[0;34m\u001b[0m\u001b[0;34m\u001b[0m\u001b[0m\n\u001b[0;32m----> 7\u001b[0;31m \u001b[0mweights2\u001b[0m\u001b[0;34m,\u001b[0m \u001b[0merror2\u001b[0m \u001b[0;34m=\u001b[0m \u001b[0mleast_squares\u001b[0m\u001b[0;34m(\u001b[0m\u001b[0my\u001b[0m\u001b[0;34m,\u001b[0m\u001b[0mtX2\u001b[0m\u001b[0;34m)\u001b[0m\u001b[0;34m\u001b[0m\u001b[0;34m\u001b[0m\u001b[0m\n\u001b[0m\u001b[1;32m      8\u001b[0m \u001b[0mprint\u001b[0m\u001b[0;34m(\u001b[0m\u001b[0merror3\u001b[0m\u001b[0;34m)\u001b[0m\u001b[0;34m\u001b[0m\u001b[0;34m\u001b[0m\u001b[0m\n\u001b[1;32m      9\u001b[0m \u001b[0mprint\u001b[0m\u001b[0;34m(\u001b[0m\u001b[0merror2\u001b[0m\u001b[0;34m)\u001b[0m\u001b[0;34m\u001b[0m\u001b[0;34m\u001b[0m\u001b[0m\n",
      "\u001b[0;31mNameError\u001b[0m: name 'tX2' is not defined"
     ]
    }
   ],
   "source": [
    "tX4 = np.where(tX == -999, 0, tX)\n",
    "weights, error = least_squares(y,tX)\n",
    "tX3 = standardize(tX)\n",
    "tx = np.c_[np.ones((y.shape[0], 1)), tX]\n",
    "weigths4,error4 = least_squares(y,tx)\n",
    "weights3, error3 = least_squares(y,tX3)\n",
    "weights2, error2 = least_squares(y,tX2)\n",
    "print(error3)\n",
    "print(error2)\n",
    "print(error4)"
   ]
  },
  {
   "cell_type": "code",
   "execution_count": 257,
   "metadata": {},
   "outputs": [],
   "source": [
    "tX_new , y_new = balance_data_stupid (tX,y)\n",
    "tX_new = np.where(tX_new == -999, 0, tX_new)"
   ]
  },
  {
   "cell_type": "code",
   "execution_count": 32,
   "metadata": {},
   "outputs": [
    {
     "name": "stdout",
     "output_type": "stream",
     "text": [
      "2364941.9755437034\n"
     ]
    }
   ],
   "source": [
    "\n",
    "w, l = logistic_regression(y, tX, w, 1, 1/250000)\n",
    "print(l)"
   ]
  },
  {
   "cell_type": "code",
   "execution_count": 33,
   "metadata": {},
   "outputs": [
    {
     "ename": "NameError",
     "evalue": "name 'tX3' is not defined",
     "output_type": "error",
     "traceback": [
      "\u001b[0;31m---------------------------------------------------------------------------\u001b[0m",
      "\u001b[0;31mNameError\u001b[0m                                 Traceback (most recent call last)",
      "\u001b[0;32m<ipython-input-33-5e944968b969>\u001b[0m in \u001b[0;36m<module>\u001b[0;34m\u001b[0m\n\u001b[0;32m----> 1\u001b[0;31m \u001b[0mx\u001b[0m \u001b[0;34m=\u001b[0m \u001b[0mnp\u001b[0m\u001b[0;34m.\u001b[0m\u001b[0msort\u001b[0m\u001b[0;34m(\u001b[0m\u001b[0mtX3\u001b[0m\u001b[0;34m[\u001b[0m\u001b[0;34m:\u001b[0m\u001b[0;34m,\u001b[0m\u001b[0;36m29\u001b[0m\u001b[0;34m]\u001b[0m\u001b[0;34m)\u001b[0m\u001b[0;34m\u001b[0m\u001b[0;34m\u001b[0m\u001b[0m\n\u001b[0m",
      "\u001b[0;31mNameError\u001b[0m: name 'tX3' is not defined"
     ]
    }
   ],
   "source": [
    "x = np.sort(tX3[:,29])"
   ]
  },
  {
   "cell_type": "code",
   "execution_count": 7,
   "metadata": {},
   "outputs": [],
   "source": [
    "tX3 = np.where(tX == -999, 0, tX)"
   ]
  },
  {
   "cell_type": "code",
   "execution_count": 13,
   "metadata": {},
   "outputs": [
    {
     "data": {
      "text/plain": [
       "1192.026"
      ]
     },
     "execution_count": 13,
     "metadata": {},
     "output_type": "execute_result"
    }
   ],
   "source": [
    "l, col = cleanse_data(tX3)\n",
    "l.shape"
   ]
  },
  {
   "cell_type": "code",
   "execution_count": 15,
   "metadata": {},
   "outputs": [
    {
     "data": {
      "text/plain": [
       "0.179716"
      ]
     },
     "execution_count": 15,
     "metadata": {},
     "output_type": "execute_result"
    }
   ],
   "source": [
    "l_pol = build_poly(l,15)\n",
    "weights, error = least_squares(y,l_pol)\n",
    "loss_really(weights,y,l_pol)"
   ]
  },
  {
   "cell_type": "code",
   "execution_count": 445,
   "metadata": {},
   "outputs": [
    {
     "data": {
      "text/plain": [
       "0.33368"
      ]
     },
     "execution_count": 445,
     "metadata": {},
     "output_type": "execute_result"
    }
   ],
   "source": [
    "tx = build_poly(tX3,15)\n",
    "weights, error = least_squares(y,tx)\n",
    "loss_really(weights,y,tx)"
   ]
  },
  {
   "cell_type": "code",
   "execution_count": 12,
   "metadata": {},
   "outputs": [
    {
     "ename": "SyntaxError",
     "evalue": "invalid syntax (<ipython-input-12-22fb630025d2>, line 1)",
     "output_type": "error",
     "traceback": [
      "\u001b[0;36m  File \u001b[0;32m\"<ipython-input-12-22fb630025d2>\"\u001b[0;36m, line \u001b[0;32m1\u001b[0m\n\u001b[0;31m    s = np.hstack([np.random.choice(np.where(labels == )[0], n, replace=False)\u001b[0m\n\u001b[0m                                                       ^\u001b[0m\n\u001b[0;31mSyntaxError\u001b[0m\u001b[0;31m:\u001b[0m invalid syntax\n"
     ]
    }
   ],
   "source": [
    "s = np.hstack([np.random.choice(np.where(labels == )[0], n, replace=False)\n",
    "                      for l in np.unique(labels)])"
   ]
  },
  {
   "cell_type": "code",
   "execution_count": 300,
   "metadata": {},
   "outputs": [
    {
     "data": {
      "text/plain": [
       "array([ 38114,      0,      0,      0, 177457, 177457, 177457,      0,\n",
       "            0,      0,      0,      0, 177457,      0,      0,      0,\n",
       "            0,      0,      0,      0,      0,      0,      0,  99913,\n",
       "        99913,  99913, 177457, 177457, 177457,      0])"
      ]
     },
     "execution_count": 300,
     "metadata": {},
     "output_type": "execute_result"
    }
   ],
   "source": [
    "s = range(30)"
   ]
  },
  {
   "cell_type": "code",
   "execution_count": 256,
   "metadata": {},
   "outputs": [
    {
     "data": {
      "text/plain": [
       "array([ 0,  1,  2,  3,  4,  5,  6,  7,  8,  9, 10, 11, 12, 13, 14, 15, 16,\n",
       "       17, 18, 19, 20, 21, 22, 23, 24, 25, 26, 27, 28, 29])"
      ]
     },
     "execution_count": 256,
     "metadata": {},
     "output_type": "execute_result"
    }
   ],
   "source": [
    "ind1 = np.array(range(30))[np.sum(tX == -999,axis = 0) == 0]\n",
    "ind2 = np.array(range(30))[np.sum(tX == -999,axis =0)< 200000]\n",
    "ind3 = np.array(range(30))\n",
    "ind3"
   ]
  },
  {
   "cell_type": "code",
   "execution_count": 30,
   "metadata": {},
   "outputs": [
    {
     "data": {
      "text/plain": [
       "(22164, 30)"
      ]
     },
     "execution_count": 30,
     "metadata": {},
     "output_type": "execute_result"
    }
   ],
   "source": [
    "s_0 = tX[tX[:,22] == 3]\n",
    "s_0 = s_0[:,np.append(0,np.arange(30)[(np.sum(s_0 == -999, 0) == 0)])]\n",
    "s_0.shape"
   ]
  },
  {
   "cell_type": "code",
   "execution_count": 146,
   "metadata": {},
   "outputs": [
    {
     "data": {
      "text/plain": [
       "array([2.10287921, 0.84162931, 0.41952934, 1.10675864, 0.69329161,\n",
       "       1.10675867, 0.25046685, 0.5815929 , 0.93670201, 0.3461081 ,\n",
       "       1.23342423, 1.81734217, 0.28791311, 1.31084863, 1.81783473,\n",
       "       0.64588685, 1.81099743, 0.43668822])"
      ]
     },
     "execution_count": 146,
     "metadata": {},
     "output_type": "execute_result"
    }
   ],
   "source": [
    "STDS[0]"
   ]
  },
  {
   "cell_type": "code",
   "execution_count": 165,
   "metadata": {},
   "outputs": [
    {
     "data": {
      "text/plain": [
       "0.16805322884206697"
      ]
     },
     "execution_count": 165,
     "metadata": {},
     "output_type": "execute_result"
    }
   ],
   "source": [
    "ratio = [Y[0].size,Y[1].size,Y[2].size,Y[3].size]\n",
    "np.sum(np.array(ratio)*np.array(errors))/250000"
   ]
  },
  {
   "cell_type": "code",
   "execution_count": 170,
   "metadata": {},
   "outputs": [
    {
     "data": {
      "text/plain": [
       "(array([ 8.63588512e-04, -7.57033689e-03, -3.41902180e-03, -3.24089644e-03,\n",
       "         3.76808650e-02,  2.52682684e-03,  2.97388727e-03, -3.08771451e-01,\n",
       "         1.25592951e-01,  9.29978063e-05,  2.28001374e-03, -2.24512867e-03,\n",
       "         9.58703147e-03, -5.91163514e-03,  1.97458484e-04,  3.14410010e-03,\n",
       "         2.16724766e-03, -9.82680769e-04, -1.04327298e-03, -1.22464530e-04,\n",
       "        -2.64345974e-04,  2.30139943e-04]),\n",
       " 0.384701623367693)"
      ]
     },
     "execution_count": 170,
     "metadata": {},
     "output_type": "execute_result"
    }
   ],
   "source": []
  },
  {
   "cell_type": "code",
   "execution_count": 164,
   "metadata": {},
   "outputs": [
    {
     "name": "stdout",
     "output_type": "stream",
     "text": [
      "13\n",
      "14\n",
      "0.15704133720348312\n",
      "13\n",
      "14\n",
      "0.19009543461439257\n",
      "13\n",
      "14\n",
      "0.15803057375421878\n",
      "13\n",
      "14\n",
      "0.16335740072202165\n"
     ]
    }
   ],
   "source": [
    "X, Y,missing_vectors = tree_test(tX,y)\n",
    "weightss = []\n",
    "degrees = []\n",
    "errors = []\n",
    "cols = []\n",
    "Means = []\n",
    "STDS = []\n",
    "\n",
    "degress = np.arange(13,15)\n",
    "lambdas = np.logspace(-12,-3,num = 40)\n",
    "for i in range(4):\n",
    "    x_n = X[i]\n",
    "    y_n = Y[i]\n",
    "    x,col = cleanse_data(x_n)\n",
    "    x,mean,std = standardize(x)\n",
    "\n",
    "    min_degree, min_weight,min_error = find_best(x,y_n,degress,lambdas,missing_vectors[i])\n",
    "    print(min_error)\n",
    "    \n",
    "    weightss.append(min_weight)\n",
    "    degrees.append(min_degree)\n",
    "    errors.append(min_error)\n",
    "    cols.append(col)\n",
    "    Means.append(mean)\n",
    "    STDS.append(std)"
   ]
  },
  {
   "cell_type": "code",
   "execution_count": 138,
   "metadata": {},
   "outputs": [],
   "source": [
    "def find_best(tx,y,degrees, lambdas,missing_vector):\n",
    "    min_degree = degress[0]\n",
    "    min_weight = np.array({})\n",
    "    min_error = 1\n",
    "    for deg in degress:\n",
    "        print(deg)\n",
    "        tx_poly = build_poly(tx,deg)\n",
    "        tx_poly = np.concatenate((missing_vector, tx_poly),1)\n",
    "        tx_tr,tx_te,y_tr,y_te = split_data(tx_poly, y, 0.9,4)\n",
    "        index = 0\n",
    "        for lambda_ in lambdas:\n",
    "            weights_r, error_r =  ridge_regression(y_tr,tx_tr,lambda_)\n",
    "            error = loss_really(weights_r,y_te,tx_te)\n",
    "            if error < min_error:\n",
    "                min_degree = deg\n",
    "                min_error = error\n",
    "                min_weight = weights_r\n",
    "    return min_degree, min_weight,min_error"
   ]
  },
  {
   "cell_type": "code",
   "execution_count": 158,
   "metadata": {},
   "outputs": [
    {
     "data": {
      "text/plain": [
       "[14, 15, 12, 12]"
      ]
     },
     "execution_count": 158,
     "metadata": {},
     "output_type": "execute_result"
    }
   ],
   "source": []
  },
  {
   "cell_type": "code",
   "execution_count": null,
   "metadata": {},
   "outputs": [],
   "source": [
    "errors = []\n",
    "y_pred  = np.zeros(len(y))\n",
    "for i in [0,3,6,9,12,15,18,21,24,27]:\n",
    "    print(i)\n",
    "    tx_test = tX3[:,[i,i+1,i+2]]\n",
    "    tx3 = build_poly(tx_test,8)\n",
    "    weights, error = least_squares(y,tx3)\n",
    "    y_pred = y_pred + predict_labels(weights, tx3)\n",
    "    errors.append(loss_really(weights,y,tx3))\n",
    "    "
   ]
  },
  {
   "cell_type": "raw",
   "metadata": {},
   "source": []
  },
  {
   "cell_type": "code",
   "execution_count": null,
   "metadata": {},
   "outputs": [],
   "source": [
    "tX3 = np.where(tX == -999, 0, tX)\n",
    "tX4 = standardize(tX4)"
   ]
  },
  {
   "cell_type": "code",
   "execution_count": null,
   "metadata": {},
   "outputs": [],
   "source": [
    "tx4 = build_poly(tX3,10)"
   ]
  },
  {
   "cell_type": "code",
   "execution_count": null,
   "metadata": {},
   "outputs": [],
   "source": [
    "tx5 = build_poly(tX4,10)"
   ]
  },
  {
   "cell_type": "code",
   "execution_count": null,
   "metadata": {},
   "outputs": [],
   "source": [
    "weights4, error4 = least_squares(y,tx4)\n",
    "loss_really(weights4,y,tx4)"
   ]
  },
  {
   "cell_type": "code",
   "execution_count": null,
   "metadata": {},
   "outputs": [],
   "source": [
    "weights5, error5 = least_squares(y,tx5)\n",
    "loss_really(weights5,y,tx5)"
   ]
  },
  {
   "cell_type": "code",
   "execution_count": null,
   "metadata": {},
   "outputs": [],
   "source": [
    "weights_r, error_r =  ridge_regression(y,tx5,0)\n",
    "loss_really(weights_r,y,tx5)"
   ]
  },
  {
   "cell_type": "code",
   "execution_count": null,
   "metadata": {},
   "outputs": [],
   "source": [
    "weights, error = least_squares(y,tx)\n",
    "loss_really(weights,y,tx)"
   ]
  },
  {
   "cell_type": "code",
   "execution_count": null,
   "metadata": {},
   "outputs": [],
   "source": [
    "col_1 = ((tX[:,0] == -999) + 0).reshape(-1,1)\n",
    "col_4 = ((tX[:,4] == -999) + 0).reshape(-1,1)\n",
    "col_23 = ((tX[:,23] == -999) + 0).reshape(-1,1)\n",
    "np.sum(col_23)\n",
    "tx_final = np.concatenate((tx3,col_1,col_4,col_23),1)\n"
   ]
  },
  {
   "cell_type": "code",
   "execution_count": null,
   "metadata": {},
   "outputs": [],
   "source": [
    "weight, error = least_squares(y,tx_final)\n",
    "loss_really(weight,y,tx_final)\n"
   ]
  },
  {
   "cell_type": "code",
   "execution_count": null,
   "metadata": {},
   "outputs": [],
   "source": [
    "weights, error = least_squares(y,tx4)\n",
    "loss_really(weights,y,tx4)"
   ]
  },
  {
   "cell_type": "code",
   "execution_count": 10,
   "metadata": {},
   "outputs": [
    {
     "data": {
      "text/plain": [
       "(30, 30)"
      ]
     },
     "execution_count": 10,
     "metadata": {},
     "output_type": "execute_result"
    }
   ],
   "source": []
  },
  {
   "cell_type": "code",
   "execution_count": null,
   "metadata": {},
   "outputs": [],
   "source": [
    "gamma = 1\n",
    "initial_w = np.zeros(tX.shape[1])"
   ]
  },
  {
   "cell_type": "code",
   "execution_count": 34,
   "metadata": {},
   "outputs": [
    {
     "data": {
      "text/plain": [
       "85667"
      ]
     },
     "execution_count": 34,
     "metadata": {},
     "output_type": "execute_result"
    }
   ],
   "source": [
    "np.sum(y_new == 1)"
   ]
  },
  {
   "cell_type": "code",
   "execution_count": null,
   "metadata": {},
   "outputs": [],
   "source": [
    "calculate_loss_sigmoid(y,tX,w)"
   ]
  },
  {
   "cell_type": "code",
   "execution_count": 301,
   "metadata": {},
   "outputs": [],
   "source": [
    "y_snew = (y_new+1)/2\n",
    "gamma = 1e-2\n",
    "tx_new,col  = cleanse_data(x_new)\n",
    "tx_new , _ , _  = standardize(tx_new)\n",
    "x_poly_new = build_poly(tx_new,5)\n",
    "w = np.ones(x_poly_new.shape[1])"
   ]
  },
  {
   "cell_type": "code",
   "execution_count": 357,
   "metadata": {},
   "outputs": [
    {
     "data": {
      "text/plain": [
       "0.2285025275972351"
      ]
     },
     "execution_count": 357,
     "metadata": {},
     "output_type": "execute_result"
    }
   ],
   "source": [
    "x_new,_ = cleanse_data(x_new)\n",
    "x_new,_,_ = standardize(x_new)\n",
    "tx = build_poly(x_new , 19)\n",
    "weights, error = least_squares(y_new,tx)\n",
    "loss_really(weights,y_new,tx)"
   ]
  },
  {
   "cell_type": "code",
   "execution_count": 325,
   "metadata": {},
   "outputs": [],
   "source": [
    "gamma = 0.0001"
   ]
  },
  {
   "cell_type": "code",
   "execution_count": 329,
   "metadata": {},
   "outputs": [
    {
     "name": "stdout",
     "output_type": "stream",
     "text": [
      "1.167968616773066\n",
      "1.167695204252376\n",
      "1.167317601162843\n",
      "1.1669089716786785\n",
      "1.1665173428967792\n",
      "1.166142690337198\n",
      "1.1657851640703063\n",
      "1.1654403342474413\n",
      "1.1651072172413335\n",
      "1.1647821726581455\n"
     ]
    },
    {
     "data": {
      "text/plain": [
       "0.731713607758176"
      ]
     },
     "execution_count": 329,
     "metadata": {},
     "output_type": "execute_result"
    }
   ],
   "source": [
    "l, w = logistic_regression(y_snew,x_poly_new,w,100,gamma)\n",
    "y_pred = predict_labels(w,x_poly_new)\n",
    "np.sum(y_pred  == y_new )/len(y_new)"
   ]
  },
  {
   "cell_type": "code",
   "execution_count": 328,
   "metadata": {},
   "outputs": [
    {
     "ename": "NameError",
     "evalue": "name 'tx3' is not defined",
     "output_type": "error",
     "traceback": [
      "\u001b[0;31m---------------------------------------------------------------------------\u001b[0m",
      "\u001b[0;31mNameError\u001b[0m                                 Traceback (most recent call last)",
      "\u001b[0;32m<ipython-input-328-6f38fd1266ee>\u001b[0m in \u001b[0;36m<module>\u001b[0;34m\u001b[0m\n\u001b[0;32m----> 1\u001b[0;31m \u001b[0ml\u001b[0m\u001b[0;34m,\u001b[0m \u001b[0mw\u001b[0m \u001b[0;34m=\u001b[0m \u001b[0mlogistic_regression\u001b[0m\u001b[0;34m(\u001b[0m\u001b[0my_new\u001b[0m\u001b[0;34m,\u001b[0m\u001b[0mtx3\u001b[0m\u001b[0;34m,\u001b[0m\u001b[0mw\u001b[0m\u001b[0;34m,\u001b[0m\u001b[0;36m5\u001b[0m\u001b[0;34m,\u001b[0m\u001b[0mgamma\u001b[0m\u001b[0;34m)\u001b[0m\u001b[0;34m\u001b[0m\u001b[0;34m\u001b[0m\u001b[0m\n\u001b[0m",
      "\u001b[0;31mNameError\u001b[0m: name 'tx3' is not defined"
     ]
    }
   ],
   "source": [
    "l, w = logistic_regression(y_new,tx3,w,5,gamma)"
   ]
  },
  {
   "cell_type": "code",
   "execution_count": 346,
   "metadata": {},
   "outputs": [
    {
     "name": "stderr",
     "output_type": "stream",
     "text": [
      "[autoreload of python2 failed: Traceback (most recent call last):\n",
      "  File \"/Users/kevinrizk/opt/anaconda3/lib/python3.8/site-packages/IPython/extensions/autoreload.py\", line 245, in check\n",
      "    superreload(m, reload, self.old_objects)\n",
      "  File \"/Users/kevinrizk/opt/anaconda3/lib/python3.8/site-packages/IPython/extensions/autoreload.py\", line 394, in superreload\n",
      "    module = reload(module)\n",
      "  File \"/Users/kevinrizk/opt/anaconda3/lib/python3.8/imp.py\", line 314, in reload\n",
      "    return importlib.reload(module)\n",
      "  File \"/Users/kevinrizk/opt/anaconda3/lib/python3.8/importlib/__init__.py\", line 169, in reload\n",
      "    _bootstrap._exec(spec, module)\n",
      "  File \"<frozen importlib._bootstrap>\", line 604, in _exec\n",
      "  File \"<frozen importlib._bootstrap_external>\", line 779, in exec_module\n",
      "  File \"<frozen importlib._bootstrap_external>\", line 916, in get_code\n",
      "  File \"<frozen importlib._bootstrap_external>\", line 846, in source_to_code\n",
      "  File \"<frozen importlib._bootstrap>\", line 219, in _call_with_frames_removed\n",
      "  File \"/Users/kevinrizk/Documents/GitHub/Project1/Kevin Rizk/scripts/python2.py\", line 208\n",
      "    gradient = calculate_gradient_sigmoid(y,tx,w)\n",
      "                                                ^\n",
      "IndentationError: unindent does not match any outer indentation level\n",
      "]\n"
     ]
    },
    {
     "data": {
      "text/plain": [
       "0.781556"
      ]
     },
     "execution_count": 346,
     "metadata": {},
     "output_type": "execute_result"
    }
   ],
   "source": [
    "np.sum(y == y_pred)/len(y)"
   ]
  },
  {
   "cell_type": "code",
   "execution_count": 190,
   "metadata": {},
   "outputs": [
    {
     "name": "stdout",
     "output_type": "stream",
     "text": [
      "[0.23048654 0.06031774 0.41442101 ... 0.38123919 0.3989019  0.10384807]\n"
     ]
    },
    {
     "data": {
      "text/plain": [
       "10876"
      ]
     },
     "execution_count": 190,
     "metadata": {},
     "output_type": "execute_result"
    }
   ],
   "source": [
    "y_pred = sigmoid(np.dot(tx3, w))\n",
    "y_test = predict_labels2(w,tx3)\n",
    "why = y_pred[y_test != y]"
   ]
  },
  {
   "cell_type": "code",
   "execution_count": 128,
   "metadata": {},
   "outputs": [],
   "source": [
    "def predict_labels2(weights, data):\n",
    "    \"\"\"Generates class predictions given weights, and a test data matrix\"\"\"\n",
    "    y_pred = sigmoid(np.dot(data, weights))\n",
    "    print(y_pred)\n",
    "    y_pred[np.where(y_pred <= 0.5)] = -1\n",
    "    y_pred[np.where(y_pred > 0.5)] = 1\n",
    "    \n",
    "    return y_pred"
   ]
  },
  {
   "cell_type": "code",
   "execution_count": 461,
   "metadata": {},
   "outputs": [
    {
     "ename": "NameError",
     "evalue": "name 'lambdas' is not defined",
     "output_type": "error",
     "traceback": [
      "\u001b[0;31m---------------------------------------------------------------------------\u001b[0m",
      "\u001b[0;31mNameError\u001b[0m                                 Traceback (most recent call last)",
      "\u001b[0;32m<ipython-input-461-12ab75dc9b55>\u001b[0m in \u001b[0;36m<module>\u001b[0;34m\u001b[0m\n\u001b[1;32m      2\u001b[0m \u001b[0merrors\u001b[0m \u001b[0;34m=\u001b[0m \u001b[0;34m[\u001b[0m\u001b[0;34m]\u001b[0m\u001b[0;34m\u001b[0m\u001b[0;34m\u001b[0m\u001b[0m\n\u001b[1;32m      3\u001b[0m \u001b[0mweightss\u001b[0m \u001b[0;34m=\u001b[0m \u001b[0;34m[\u001b[0m\u001b[0;34m]\u001b[0m\u001b[0;34m\u001b[0m\u001b[0;34m\u001b[0m\u001b[0m\n\u001b[0;32m----> 4\u001b[0;31m \u001b[0;32mfor\u001b[0m \u001b[0mlambda_\u001b[0m \u001b[0;32min\u001b[0m \u001b[0mlambdas\u001b[0m\u001b[0;34m:\u001b[0m\u001b[0;34m\u001b[0m\u001b[0;34m\u001b[0m\u001b[0m\n\u001b[0m\u001b[1;32m      5\u001b[0m     \u001b[0mindex\u001b[0m \u001b[0;34m=\u001b[0m \u001b[0mindex\u001b[0m\u001b[0;34m+\u001b[0m\u001b[0;36m1\u001b[0m\u001b[0;34m\u001b[0m\u001b[0;34m\u001b[0m\u001b[0m\n\u001b[1;32m      6\u001b[0m     \u001b[0mprint\u001b[0m\u001b[0;34m(\u001b[0m\u001b[0mindex\u001b[0m\u001b[0;34m)\u001b[0m\u001b[0;34m\u001b[0m\u001b[0;34m\u001b[0m\u001b[0m\n",
      "\u001b[0;31mNameError\u001b[0m: name 'lambdas' is not defined"
     ]
    }
   ],
   "source": [
    "index = 0 \n",
    "errors = []\n",
    "weightss = []\n",
    "for lambda_ in lambdas:\n",
    "    index = index+1\n",
    "    print(index)\n",
    "    weights_r, error_r =  ridge_regression(y_new,tx_new,lambda_)\n",
    "    errors.append(loss_really(weights_r,y,tx3))\n",
    "    weightss.append(weights_r)\n"
   ]
  },
  {
   "cell_type": "code",
   "execution_count": 409,
   "metadata": {},
   "outputs": [],
   "source": [
    "x_b, y_b  = balance_data_stupid(x_new,y_new,seed=2)"
   ]
  },
  {
   "cell_type": "code",
   "execution_count": 410,
   "metadata": {},
   "outputs": [
    {
     "data": {
      "text/plain": [
       "array([[ 0.57920578,  0.26668787,  0.55865159, ...,  1.58093455,\n",
       "        -0.91825712,  1.11188967],\n",
       "       [ 0.36184056, -1.45084803, -0.0821965 , ...,  0.32598079,\n",
       "         0.0743059 , -1.14609095],\n",
       "       [ 0.21795906,  0.78879531, -0.85224342, ..., -1.28196302,\n",
       "         1.37663222, -1.03001037],\n",
       "       ...,\n",
       "       [ 0.33518447, -1.17735852,  0.50451547, ...,  1.40526298,\n",
       "         0.37196477,  3.4562818 ],\n",
       "       [ 0.60120742, -2.53314765,  0.78292857, ...,  0.40064121,\n",
       "        -0.08085084, -0.90839297],\n",
       "       [ 0.31001996,  0.48237669,  0.12226513, ...,  0.55600075,\n",
       "         1.32051169,  1.04823948]])"
      ]
     },
     "execution_count": 410,
     "metadata": {},
     "output_type": "execute_result"
    }
   ],
   "source": [
    "x_new = X[1]"
   ]
  },
  {
   "cell_type": "code",
   "execution_count": 429,
   "metadata": {},
   "outputs": [
    {
     "data": {
      "text/plain": [
       "0"
      ]
     },
     "execution_count": 429,
     "metadata": {},
     "output_type": "execute_result"
    }
   ],
   "source": []
  },
  {
   "cell_type": "code",
   "execution_count": 417,
   "metadata": {},
   "outputs": [],
   "source": [
    "l,col = cleanse_data(x_b)\n",
    "l,_,_ = standardize(l)\n",
    "l_pol = build_poly(l,20)\n",
    "tx_tr,tx_te,y_tr,y_te = split_data(l_pol, y_b, 0.9,4)"
   ]
  },
  {
   "cell_type": "code",
   "execution_count": 418,
   "metadata": {},
   "outputs": [],
   "source": [
    "lambdas = np.logspace(-15,-2,num = 40)"
   ]
  },
  {
   "cell_type": "code",
   "execution_count": 419,
   "metadata": {},
   "outputs": [
    {
     "name": "stdout",
     "output_type": "stream",
     "text": [
      "1\n",
      "2\n",
      "3\n",
      "4\n",
      "5\n",
      "6\n",
      "7\n",
      "8\n",
      "9\n",
      "10\n",
      "11\n",
      "12\n",
      "13\n",
      "14\n",
      "15\n",
      "16\n",
      "17\n",
      "18\n",
      "19\n",
      "20\n",
      "21\n",
      "22\n",
      "23\n",
      "24\n",
      "25\n",
      "26\n",
      "27\n",
      "28\n",
      "29\n",
      "30\n",
      "31\n",
      "32\n",
      "33\n",
      "34\n",
      "35\n",
      "36\n",
      "37\n",
      "38\n",
      "39\n",
      "40\n"
     ]
    }
   ],
   "source": [
    "index = 0 \n",
    "errors = []\n",
    "weightss = []\n",
    "for lambda_ in lambdas:\n",
    "    index = index+1\n",
    "    print(index)\n",
    "    weights_r, error_r =  ridge_regression(y_tr,tx_tr,lambda_)\n",
    "    errors.append(loss_really(weights_r,y_te,tx_te))\n",
    "    weightss.append(weights_r)\n"
   ]
  },
  {
   "cell_type": "code",
   "execution_count": 420,
   "metadata": {},
   "outputs": [
    {
     "data": {
      "text/plain": [
       "[<matplotlib.lines.Line2D at 0x7fe9e59d5370>]"
      ]
     },
     "execution_count": 420,
     "metadata": {},
     "output_type": "execute_result"
    },
    {
     "data": {
      "image/png": "[encoded data removed]",
      "text/plain": [
       "<Figure size 432x288 with 1 Axes>"
      ]
     },
     "metadata": {
      "needs_background": "light"
     },
     "output_type": "display_data"
    }
   ],
   "source": [
    "plt.semilogx(lambdas,errors)"
   ]
  },
  {
   "cell_type": "code",
   "execution_count": 421,
   "metadata": {},
   "outputs": [
    {
     "data": {
      "text/plain": [
       "31"
      ]
     },
     "execution_count": 421,
     "metadata": {},
     "output_type": "execute_result"
    }
   ],
   "source": [
    "weights = weightss[np.argmin(errors)]\n",
    "np.argmin(errors)"
   ]
  },
  {
   "cell_type": "code",
   "execution_count": 422,
   "metadata": {},
   "outputs": [
    {
     "data": {
      "text/plain": [
       "0.2089875473741202"
      ]
     },
     "execution_count": 422,
     "metadata": {},
     "output_type": "execute_result"
    }
   ],
   "source": [
    "loss_really(weights,y_te,tx_te)"
   ]
  },
  {
   "cell_type": "markdown",
   "metadata": {},
   "source": [
    "## Generate predictions and save ouput in csv format for submission:"
   ]
  },
  {
   "cell_type": "code",
   "execution_count": 195,
   "metadata": {},
   "outputs": [
    {
     "data": {
      "text/plain": [
       "[0, 1, 2, 3, 5, 8, 9, 13, 16, 19, 21, 23, 26, 29]"
      ]
     },
     "execution_count": 195,
     "metadata": {},
     "output_type": "execute_result"
    }
   ],
   "source": [
    "col"
   ]
  },
  {
   "cell_type": "code",
   "execution_count": null,
   "metadata": {},
   "outputs": [],
   "source": [
    "t2 = np.zeros(30)\n",
    "for i in range(30):\n",
    "    t2[i] = np.sum(tX_test[:,i] == -999)"
   ]
  },
  {
   "cell_type": "code",
   "execution_count": null,
   "metadata": {},
   "outputs": [],
   "source": [
    "tx_test = np.where(tX_test == -999, 0, tX_test)\n",
    "tx_test = build_poly(tx_test,11)\n",
    "col_1 = ((tX_test[:,0] == -999) + 0).reshape(-1,1)\n",
    "col_4 = ((tX_test[:,4] == -999) + 0).reshape(-1,1)\n",
    "col_23 = ((tX_test[:,23] == -999) + 0).reshape(-1,1)\n",
    "tx_test_final = np.concatenate((tx_test,col_1,col_4,col_23),1)"
   ]
  },
  {
   "cell_type": "code",
   "execution_count": 413,
   "metadata": {},
   "outputs": [],
   "source": [
    "tx_test = np.where(tX_test == -999, 0, tX_test)\n",
    "tx_test = standardize(tx_test)\n",
    "tx_test = build_poly(tx_test,15)\n",
    "tx_test = standardize(tx_test,True)"
   ]
  },
  {
   "cell_type": "code",
   "execution_count": 180,
   "metadata": {},
   "outputs": [],
   "source": [
    "l_test = np.where(tX_test == -999, 0, tX_test)\n",
    "l_test = cleanse_data_col(l_test,col)\n",
    "l_test = standardize(l_test)\n",
    "l_pol_test = build_poly(l_test,15)"
   ]
  },
  {
   "cell_type": "code",
   "execution_count": 160,
   "metadata": {},
   "outputs": [],
   "source": [
    "Y_pred = np.zeros(tX_test.shape[0])\n",
    "X_t, _,_ = tree_test(tX_test,Y_pred)"
   ]
  },
  {
   "cell_type": "code",
   "execution_count": 161,
   "metadata": {},
   "outputs": [],
   "source": [
    " for i in range(4):\n",
    "    X_t2 = cleanse_data_col(X_t[i],cols[i])\n",
    "    X_t2 = standardize_with_info(X_t2,Means[i],STDS[i])\n",
    "    X_poly = build_poly(X_t2,degrees[i])\n",
    "    y_a = predict_labels(weightss[i], X_poly)\n",
    "    Y_pred[ tX_test[:,22] == i] = y_a"
   ]
  },
  {
   "cell_type": "code",
   "execution_count": 162,
   "metadata": {},
   "outputs": [],
   "source": [
    "OUTPUT_PATH = '../data/submission_good.csv'\n",
    "create_csv_submission(ids_test, Y_pred, OUTPUT_PATH)"
   ]
  },
  {
   "cell_type": "code",
   "execution_count": 141,
   "metadata": {},
   "outputs": [],
   "source": [
    "DATA_TEST_PATH = '../data/test.csv' # TODO: download train data and supply path here \n",
    "_, tX_test, ids_test = load_csv_data(DATA_TEST_PATH)\n"
   ]
  },
  {
   "cell_type": "code",
   "execution_count": null,
   "metadata": {},
   "outputs": [],
   "source": [
    "tx_test = build_poly(tX_test,7)"
   ]
  },
  {
   "cell_type": "code",
   "execution_count": null,
   "metadata": {},
   "outputs": [],
   "source": [
    "tX4_test = np.where(tX_test == -999, 0, tX_test)\n",
    "tx4_test = build_poly(tX4_test,11)"
   ]
  },
  {
   "cell_type": "code",
   "execution_count": 44,
   "metadata": {},
   "outputs": [
    {
     "ename": "NameError",
     "evalue": "name 'l_tx_test' is not defined",
     "output_type": "error",
     "traceback": [
      "\u001b[0;31m---------------------------------------------------------------------------\u001b[0m",
      "\u001b[0;31mNameError\u001b[0m                                 Traceback (most recent call last)",
      "\u001b[0;32m<ipython-input-44-42f009e480d0>\u001b[0m in \u001b[0;36m<module>\u001b[0;34m\u001b[0m\n\u001b[1;32m      1\u001b[0m \u001b[0mOUTPUT_PATH\u001b[0m \u001b[0;34m=\u001b[0m \u001b[0;34m'../data/submission_new.csv'\u001b[0m \u001b[0;31m# TODO: fill in desired name of output file for submission\u001b[0m\u001b[0;34m\u001b[0m\u001b[0;34m\u001b[0m\u001b[0m\n\u001b[0;32m----> 2\u001b[0;31m \u001b[0my_pred\u001b[0m \u001b[0;34m=\u001b[0m \u001b[0mpredict_labels\u001b[0m\u001b[0;34m(\u001b[0m\u001b[0mweights\u001b[0m\u001b[0;34m,\u001b[0m \u001b[0ml_tx_test\u001b[0m\u001b[0;34m)\u001b[0m\u001b[0;34m\u001b[0m\u001b[0;34m\u001b[0m\u001b[0m\n\u001b[0m\u001b[1;32m      3\u001b[0m \u001b[0mcreate_csv_submission\u001b[0m\u001b[0;34m(\u001b[0m\u001b[0mids_test\u001b[0m\u001b[0;34m,\u001b[0m \u001b[0mY_pred\u001b[0m\u001b[0;34m,\u001b[0m \u001b[0mOUTPUT_PATH\u001b[0m\u001b[0;34m)\u001b[0m\u001b[0;34m\u001b[0m\u001b[0;34m\u001b[0m\u001b[0m\n",
      "\u001b[0;31mNameError\u001b[0m: name 'l_tx_test' is not defined"
     ]
    }
   ],
   "source": [
    "OUTPUT_PATH = '../data/submission_new.csv' # TODO: fill in desired name of output file for submission\n",
    "y_pred = predict_labels(weights, l_tx_test)\n",
    "create_csv_submission(ids_test, Y_pred, OUTPUT_PATH)"
   ]
  },
  {
   "cell_type": "code",
   "execution_count": 186,
   "metadata": {},
   "outputs": [],
   "source": [
    "l_test2, col2= cleanse_data(np.where(tX_test == -999, 0, tX_test))"
   ]
  },
  {
   "cell_type": "code",
   "execution_count": 188,
   "metadata": {},
   "outputs": [
    {
     "data": {
      "text/plain": [
       "[0, 1, 2, 3, 5, 8, 9, 13, 16, 19, 21, 23, 26, 29]"
      ]
     },
     "execution_count": 188,
     "metadata": {},
     "output_type": "execute_result"
    }
   ],
   "source": [
    "l_test2 == l_test "
   ]
  },
  {
   "cell_type": "code",
   "execution_count": null,
   "metadata": {},
   "outputs": [],
   "source": []
  }
 ],
 "metadata": {
  "anaconda-cloud": {},
  "kernelspec": {
   "display_name": "Python 3",
   "language": "python",
   "name": "python3"
  },
  "language_info": {
   "codemirror_mode": {
    "name": "ipython",
    "version": 3
   },
   "file_extension": ".py",
   "mimetype": "text/x-python",
   "name": "python",
   "nbconvert_exporter": "python",
   "pygments_lexer": "ipython3",
   "version": "3.8.5"
  }
 },
 "nbformat": 4,
 "nbformat_minor": 1
}
