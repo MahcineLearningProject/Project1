{
 "cells": [
  {
   "cell_type": "code",
   "execution_count": 105,
   "metadata": {
    "tags": []
   },
   "outputs": [
    {
     "name": "stdout",
     "output_type": "stream",
     "text": [
      "The autoreload extension is already loaded. To reload it, use:\n",
      "  %reload_ext autoreload\n"
     ]
    }
   ],
   "source": [
    "# Useful starting lines\n",
    "%matplotlib inline\n",
    "import numpy as np\n",
    "import matplotlib.pyplot as plt\n",
    "from implementations import *\n",
    "%load_ext autoreload\n",
    "%autoreload 2"
   ]
  },
  {
   "cell_type": "markdown",
   "metadata": {},
   "source": [
    "## Load the training data into feature matrix, class labels, and event ids:"
   ]
  },
  {
   "cell_type": "code",
   "execution_count": 106,
   "metadata": {
    "collapsed": false,
    "jupyter": {
     "outputs_hidden": false
    }
   },
   "outputs": [],
   "source": [
    "from proj1_helpers import *\n",
    "DATA_TRAIN_PATH = '../data/train.csv' # TODO: download train data and supply path here \n",
    "y, tX, ids = load_csv_data(DATA_TRAIN_PATH)"
   ]
  },
  {
   "cell_type": "markdown",
   "metadata": {
    "tags": []
   },
   "source": [
    "## Do your thing crazy machine learning thing here :) ..."
   ]
  },
  {
   "cell_type": "code",
   "execution_count": 78,
   "metadata": {},
   "outputs": [
    {
     "name": "stdout",
     "output_type": "stream",
     "text": [
      "[[ 1  2  3  4  5]\n",
      " [ 3  6  9 12 15]\n",
      " [ 5  4  3  2  1]]\n",
      "[[ 2  5]\n",
      " [ 6 15]\n",
      " [ 4  1]]\n"
     ]
    }
   ],
   "source": [
    "g = np.array([[ 1, 2, 3, 4, 5], [3, 6, 9, 12, 15], [5, 4, 3, 2, 1 ] ])\n",
    "print(g)\n",
    "print(g[:, (1, 4)])"
   ]
  },
  {
   "cell_type": "code",
   "execution_count": 42,
   "metadata": {},
   "outputs": [
    {
     "name": "stdout",
     "output_type": "stream",
     "text": [
      "[[ 1  2  3  4  5]\n",
      " [ 3  6  9 12 15]\n",
      " [ 5  4  3  2  1]]\n",
      "(0,)\n",
      "0\n",
      "[[0]\n",
      " [1]\n",
      " [0]]\n",
      "1\n",
      "2\n",
      "[[0 1]\n",
      " [1 0]\n",
      " [0 1]]\n",
      "3\n",
      "4\n",
      "[[ 1  2  0  4  5  0  1]\n",
      " [ 0  6  9 12 15  1  0]\n",
      " [ 5  4  0  2  1  0  1]]\n"
     ]
    }
   ],
   "source": [
    "a = np.array([[ 1, 2, 3, 4, 5], [3, 6, 9, 12, 15], [5, 4, 3, 2, 1 ] ])\n",
    "print(a)\n",
    "missings = np.array([])\n",
    "print(missings.shape)\n",
    "N = a.shape[1]\n",
    "d = a.shape[0]\n",
    "for i in range(N):\n",
    "    print(i)\n",
    "    col = a[:,i]\n",
    "    if (col[col==3].shape[0] != 0):\n",
    "        miss = col.copy()\n",
    "        miss[miss != 3] = 0\n",
    "        miss[miss == 3] = 1\n",
    "        col[col == 3] = 0\n",
    "        miss = miss.reshape(-1, 1)\n",
    "        if (missings.shape[0] == 0):\n",
    "            missings = miss\n",
    "        else:\n",
    "             missings = np.append(missings, miss, axis = 1)\n",
    "        print(missings)\n",
    "\n",
    "a = np.append(a, missings, axis = 1)\n",
    "print(a)"
   ]
  },
  {
   "cell_type": "code",
   "execution_count": 107,
   "metadata": {},
   "outputs": [
    {
     "name": "stdout",
     "output_type": "stream",
     "text": [
      "(1580052,)\n",
      "(0,)\n"
     ]
    }
   ],
   "source": [
    "print(tX[tX == -999].shape)\n",
    "missing_vectors = np.array([])\n",
    "n_par = tX.shape[1]\n",
    "for i in range(n_par):\n",
    "    col = tX[:,i]\n",
    "    if (col[col==-999].shape[0] != 0):\n",
    "        miss = col.copy()\n",
    "        miss[miss != -999] = 0\n",
    "        miss[miss == -999] = 1\n",
    "        col[col == -999] = 0\n",
    "        miss = miss.reshape(-1, 1)\n",
    "        if (missing_vectors.shape[0] == 0):\n",
    "            missing_vectors = miss\n",
    "        else:\n",
    "             missing_vectors = np.append(missing_vectors, miss, axis = 1)\n",
    "print(tX[tX == -999].shape)\n",
    "missing_vectors = missing_vectors[:, (0, 1, 5)] # only take differents columns of missing_vectors"
   ]
  },
  {
   "cell_type": "code",
   "execution_count": 83,
   "metadata": {},
   "outputs": [
    {
     "name": "stdout",
     "output_type": "stream",
     "text": [
      "[[ 38114.  33685.  26123.]\n",
      " [ 33685. 177457.  99913.]\n",
      " [ 26123.  99913.  99913.]]\n"
     ]
    }
   ],
   "source": [
    "print(np.dot(missing_vectors.T, missing_vectors))"
   ]
  },
  {
   "cell_type": "code",
   "execution_count": 108,
   "metadata": {},
   "outputs": [
    {
     "name": "stdout",
     "output_type": "stream",
     "text": [
      "loss  0 :  0.342668\n",
      "loss  1 :  0.25318\n",
      "loss  2 :  0.225204\n",
      "loss  3 :  0.213456\n",
      "loss  4 :  0.205384\n",
      "loss  5 :  0.201132\n",
      "loss  6 :  0.19946\n",
      "loss  7 :  0.194336\n",
      "loss  8 :  0.186824\n",
      "loss  9 :  0.1821\n",
      "9\n"
     ]
    }
   ],
   "source": [
    "degrees = np.arange(10)\n",
    "N = tX.shape[0]\n",
    "Weights = []\n",
    "losses = []\n",
    "for iter_degree, degree in enumerate(degrees):\n",
    "    polx = build_poly(tX, degree)\n",
    "    polx = polx.reshape(N, -1)\n",
    "    polx = np.append(polx, missing_vectors, axis = 1)\n",
    "    A = np.dot(polx.T, polx)\n",
    "    b = np.dot(polx.T, y)\n",
    "    w = np.linalg.solve(A, b)\n",
    "    loss = loss_really(w,y,polx)\n",
    "    print('loss ', iter_degree, ': ', loss)\n",
    "    Weights.append(w)\n",
    "    losses.append(loss)\n",
    "ind = np.argmin(losses)\n",
    "print(ind)\n",
    "weights = Weights[ind]"
   ]
  },
  {
   "cell_type": "markdown",
   "metadata": {
    "tags": []
   },
   "source": [
    "## Generate predictions and save ouput in csv format for submission:"
   ]
  },
  {
   "cell_type": "code",
   "execution_count": 109,
   "metadata": {
    "collapsed": false,
    "jupyter": {
     "outputs_hidden": false
    }
   },
   "outputs": [],
   "source": [
    "DATA_TEST_PATH = '../data/test.csv' # TODO: download train data and supply path here \n",
    "_, tX_test, ids_test = load_csv_data(DATA_TEST_PATH)"
   ]
  },
  {
   "cell_type": "code",
   "execution_count": 110,
   "metadata": {},
   "outputs": [
    {
     "name": "stdout",
     "output_type": "stream",
     "text": [
      "(3588434,)\n",
      "(0,)\n"
     ]
    }
   ],
   "source": [
    "tX_test, missing_test = missing(tX_test)\n",
    "N = tX_test.shape[0]\n",
    "polx_test = build_poly(tX_test, degrees[ind])\n",
    "polx_test = polx_test.reshape(N, -1)\n",
    "polx_test = np.append(polx_test, missing_test, axis = 1)\n",
    "tX_test = polx_test"
   ]
  },
  {
   "cell_type": "code",
   "execution_count": 111,
   "metadata": {
    "collapsed": false,
    "jupyter": {
     "outputs_hidden": false
    }
   },
   "outputs": [],
   "source": [
    "OUTPUT_PATH = '../data/submission1.csv' # TODO: fill in desired name of output file for submission\n",
    "y_pred = predict_labels(weights, tX_test)\n",
    "create_csv_submission(ids_test, y_pred, OUTPUT_PATH)"
   ]
  },
  {
   "cell_type": "code",
   "execution_count": null,
   "metadata": {
    "collapsed": true,
    "jupyter": {
     "outputs_hidden": true
    }
   },
   "outputs": [],
   "source": []
  }
 ],
 "metadata": {
  "anaconda-cloud": {},
  "kernelspec": {
   "display_name": "Python",
   "language": "python",
   "name": "python3"
  },
  "language_info": {
   "codemirror_mode": {
    "name": "ipython",
    "version": 3
   },
   "file_extension": ".py",
   "mimetype": "text/x-python",
   "name": "python",
   "nbconvert_exporter": "python",
   "pygments_lexer": "ipython3",
   "version": "3.8.10"
  }
 },
 "nbformat": 4,
 "nbformat_minor": 4
}
