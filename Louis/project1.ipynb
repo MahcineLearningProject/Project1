{
 "cells": [
  {
   "cell_type": "code",
   "execution_count": 1,
   "metadata": {
    "tags": []
   },
   "outputs": [],
   "source": [
    "# Useful starting lines\n",
    "%matplotlib inline\n",
    "import numpy as np\n",
    "import matplotlib.pyplot as plt\n",
    "%load_ext autoreload\n",
    "%autoreload 2"
   ]
  },
  {
   "cell_type": "markdown",
   "metadata": {},
   "source": [
    "## Load the training data into feature matrix, class labels, and event ids:"
   ]
  },
  {
   "cell_type": "code",
   "execution_count": 2,
   "metadata": {
    "collapsed": false,
    "jupyter": {
     "outputs_hidden": false
    }
   },
   "outputs": [],
   "source": [
    "from proj1_helpers import *\n",
    "from implementation import *\n",
    "DATA_TRAIN_PATH = 'train.csv' # TODO: download train data and supply path here \n",
    "y, tX, ids = load_csv_data(DATA_TRAIN_PATH)"
   ]
  },
  {
   "cell_type": "code",
   "execution_count": 3,
   "metadata": {},
   "outputs": [],
   "source": [
    "DATA_TEST_PATH = 'test.csv' # TODO: download train data and supply path here \n",
    "_, tX_test, ids_test = load_csv_data(DATA_TEST_PATH)"
   ]
  },
  {
   "cell_type": "markdown",
   "metadata": {},
   "source": [
    "## Do your thing crazy machine learning thing here :) ..."
   ]
  },
  {
   "cell_type": "markdown",
   "metadata": {
    "jp-MarkdownHeadingCollapsed": true,
    "tags": []
   },
   "source": [
    "## Feature selection"
   ]
  },
  {
   "cell_type": "code",
   "execution_count": 27,
   "metadata": {},
   "outputs": [],
   "source": [
    "ttx, missing_vect = change_data_missing(tX)\n",
    "corr_mat = np.corrcoef(ttx.T)\n",
    "columns = np.full((corr_mat.shape[0],), True, dtype = bool)"
   ]
  },
  {
   "cell_type": "code",
   "execution_count": 28,
   "metadata": {},
   "outputs": [
    {
     "name": "stdout",
     "output_type": "stream",
     "text": [
      "27\n"
     ]
    }
   ],
   "source": [
    "for i in range(corr_mat.shape[0]):\n",
    "    for j in range(i+1,corr_mat.shape[1]):\n",
    "        if np.abs(corr_mat[i][j])>0.9:\n",
    "            if columns[j]:\n",
    "                columns[j] = False\n",
    "ttx = ttx[:,columns]\n",
    "print(ttx.shape[1])"
   ]
  },
  {
   "cell_type": "markdown",
   "metadata": {},
   "source": [
    "Now we will perform ridge regression on the new matrix"
   ]
  },
  {
   "cell_type": "code",
   "execution_count": 29,
   "metadata": {},
   "outputs": [],
   "source": [
    "lambdas = np.logspace(-10,3,30)\n",
    "degrees = np.arange(1,12,1)\n",
    "err_fs = []\n",
    "Weights_fs = []"
   ]
  },
  {
   "cell_type": "code",
   "execution_count": 30,
   "metadata": {},
   "outputs": [
    {
     "name": "stdout",
     "output_type": "stream",
     "text": [
      "Elapsed time: 12.592736959457397 s, degree = 1, best error = 0.253328, best_lambda = 126.89610031679234\n",
      "Elapsed time: 18.262277126312256 s, degree = 2, best error = 0.225688, best_lambda = 0.2592943797404667\n",
      "Elapsed time: 31.20139765739441 s, degree = 3, best error = 0.214708, best_lambda = 2.04335971785694\n",
      "Elapsed time: 84.47943997383118 s, degree = 4, best error = 0.20662, best_lambda = 0.09236708571873846\n",
      "Elapsed time: 64.61517596244812 s, degree = 5, best error = 0.202912, best_lambda = 0.00018873918221350996\n",
      "Elapsed time: 81.16721606254578 s, degree = 6, best error = 0.20038, best_lambda = 2.04335971785694\n",
      "Elapsed time: 113.32259893417358 s, degree = 7, best error = 0.1952, best_lambda = 8.531678524172814e-06\n",
      "Elapsed time: 139.87653303146362 s, degree = 8, best error = 0.187688, best_lambda = 0.2592943797404667\n",
      "Elapsed time: 190.54938197135925 s, degree = 9, best error = 0.18316, best_lambda = 0.011721022975334793\n",
      "Elapsed time: 202.40567827224731 s, degree = 10, best error = 0.188012, best_lambda = 1e-10\n",
      "Elapsed time: 261.0039463043213 s, degree = 11, best error = 0.18614, best_lambda = 126.89610031679234\n"
     ]
    }
   ],
   "source": [
    "for ind_d, degree in enumerate(degrees):\n",
    "    phi_fs = build_poly_missing(ttx, missing_vect, degree)\n",
    "    t_start = time.time()\n",
    "    for ind_l, lambda_ in enumerate(lambdas):\n",
    "        w_ri_fs, _ = ridge_regression(y, phi_fs, lambda_)\n",
    "        error_fs = compute_accuracy(w_ri_fs, y, phi_fs)\n",
    "        Weights_fs.append(w_ri_fs)\n",
    "        err_fs.append(error_fs)\n",
    "    best_err = np.min(err_fs[ind_d*len(lambdas):(ind_d+1)*len(lambdas)])\n",
    "    argm = np.argmin(err_fs[ind_d*len(lambdas):(ind_d+1)*len(lambdas)])\n",
    "    best_l = lambdas[argm]\n",
    "    t = time.time() - t_start\n",
    "    print(\"Elapsed time: {t} s, degree = {degree}, best error = {best_err}, best_lambda = {best_l}\".format(t = t, degree = degree, best_err = best_err, best_l = best_l))"
   ]
  },
  {
   "cell_type": "markdown",
   "metadata": {},
   "source": [
    "## Choosing variables of order 2 randomly (pas vraiment utile apparemment)\n",
    "We will use only degrees 8 to 11 as they give the bests results"
   ]
  },
  {
   "cell_type": "code",
   "execution_count": 27,
   "metadata": {},
   "outputs": [],
   "source": [
    "degrees = np.arange(5,12,1)\n",
    "lambdas = np.logspace(-10,0,30)\n",
    "err = []\n",
    "Weights_ord2 = []\n",
    "ttx_ord2, missing_vect = change_data_missing(tX)"
   ]
  },
  {
   "cell_type": "code",
   "execution_count": 29,
   "metadata": {},
   "outputs": [
    {
     "name": "stdout",
     "output_type": "stream",
     "text": [
      "new degree\n",
      "Elapsed time: 195.8911008834839 s, degree = 5, best error = 0.201032, (i,j) = (5,11)\n",
      "new degree\n",
      "Elapsed time: 226.64763593673706 s, degree = 6, best error = 0.199384, (i,j) = (5,11)\n",
      "new degree\n",
      "Elapsed time: 230.61801290512085 s, degree = 7, best error = 0.193856, (i,j) = (5,11)\n",
      "new degree\n",
      "Elapsed time: 340.2039473056793 s, degree = 8, best error = 0.186648, (i,j) = (5,11)\n",
      "new degree\n",
      "Elapsed time: 311.8979387283325 s, degree = 9, best error = 0.181924, (i,j) = (5,11)\n",
      "new degree\n",
      "Elapsed time: 495.0541481971741 s, degree = 10, best error = 0.181052, (i,j) = (5,11)\n",
      "new degree\n",
      "Elapsed time: 487.56017684936523 s, degree = 11, best error = 0.181052, (i,j) = (5,11)\n"
     ]
    }
   ],
   "source": [
    "np.random.seed(1)\n",
    "i, j = np.random.randint(0,30,2)\n",
    "ttx = np.append(ttx_ord2, (ttx_ord2[:,i]*ttx_ord2[:,j]).reshape((ttx_ord2.shape[0],1)), axis = 1)\n",
    "for ind_d, degree in enumerate(degrees):\n",
    "    print('new degree')\n",
    "    t_start = time.time()\n",
    "    phi_ord2 = build_poly_missing(ttx, missing_vect, degree)\n",
    "    for ind_l, lambda_ in enumerate(lambdas):\n",
    "        w_ri_ord2, _ = ridge_regression(y, phi_ord2, lambda_)\n",
    "        error_ord2 = compute_accuracy(w_ri_ord2, y, phi_ord2)\n",
    "        Weights_ord2.append(w_ri_ord2)\n",
    "        err.append(error_ord2)\n",
    "    best_err = np.min(err)\n",
    "    t = time.time() - t_start\n",
    "    print(\"Elapsed time: {t} s, degree = {d}, best error = {best_err}, (i,j) = ({i},{j})\".format(t = t, d = degree, best_err = best_err, i=i, j=j))"
   ]
  },
  {
   "cell_type": "markdown",
   "metadata": {
    "tags": []
   },
   "source": [
    "## Ridge regression without feature selectionttx_ord2"
   ]
  },
  {
   "cell_type": "code",
   "execution_count": 15,
   "metadata": {},
   "outputs": [],
   "source": [
    "from implementation import *\n",
    "lambdas = np.logspace(-10,3,50)\n",
    "degrees = np.arange(1,12,1)\n",
    "err = []\n",
    "Weights = []"
   ]
  },
  {
   "cell_type": "code",
   "execution_count": 16,
   "metadata": {},
   "outputs": [
    {
     "name": "stdout",
     "output_type": "stream",
     "text": [
      "Elapsed time: 21.78075623512268 s, degree = 1, best error = 0.253088, best_lambda = 159.9858719606064\n",
      "Elapsed time: 53.18994927406311 s, degree = 2, best error = 0.2252, best_lambda = 0.00023299518105153718\n",
      "Elapsed time: 57.71281051635742 s, degree = 3, best error = 0.213452, best_lambda = 0.00042919342601287783\n",
      "Elapsed time: 132.8130521774292 s, degree = 4, best error = 0.205316, best_lambda = 0.10481131341546875\n",
      "Elapsed time: 137.60612559318542 s, degree = 5, best error = 0.201124, best_lambda = 1.2067926406393314\n",
      "Elapsed time: 311.93634009361267 s, degree = 6, best error = 0.199452, best_lambda = 2.0235896477251596e-05\n",
      "Elapsed time: 381.09544467926025 s, degree = 7, best error = 0.193916, best_lambda = 3.2374575428176467e-06\n",
      "Elapsed time: 699.2371666431427 s, degree = 8, best error = 0.18674, best_lambda = 0.10481131341546875\n",
      "Elapsed time: 582.3396110534668 s, degree = 9, best error = 0.181952, best_lambda = 6.250551925273976e-10\n",
      "Elapsed time: 359.37212085723877 s, degree = 10, best error = 0.181008, best_lambda = 1.5264179671752333e-07\n",
      "Elapsed time: 658.0224816799164 s, degree = 11, best error = 0.180188, best_lambda = 0.05689866029018305\n"
     ]
    }
   ],
   "source": [
    "tx_new, missing_vect = change_data_missing(tX)\n",
    "for ind_d, degree in enumerate(degrees):\n",
    "    phi = build_poly_missing(tx_new, missing_vect, degree)\n",
    "    t_start = time.time()\n",
    "    for ind_l, lambda_ in enumerate(lambdas):\n",
    "        weights_ri, _ = ridge_regression(y, phi, lambda_)\n",
    "        error = compute_accuracy(weights_ri, y, phi)\n",
    "        Weights.append(weights_ri)\n",
    "        err.append(error)\n",
    "    best_err = np.min(err[ind_d*len(lambdas):(ind_d+1)*len(lambdas)])\n",
    "    argm = np.argmin(err[ind_d*len(lambdas):(ind_d+1)*len(lambdas)])\n",
    "    best_l = lambdas[argm]\n",
    "    t = time.time() - t_start\n",
    "    print(\"Elapsed time: {t} s, degree = {degree}, best error = {best_err}, best_lambda = {best_l}\".format(t = t, degree = degree, best_err = best_err, best_l = best_l))"
   ]
  },
  {
   "cell_type": "code",
   "execution_count": 17,
   "metadata": {},
   "outputs": [],
   "source": [
    "arg_err_min = np.argmin(err)\n",
    "w_opt = Weights[arg_err_min]"
   ]
  },
  {
   "cell_type": "code",
   "execution_count": 19,
   "metadata": {},
   "outputs": [],
   "source": [
    "tx_test_new, missing_vect_test = change_data_missing(tX_test)\n",
    "phi_test = build_poly_missing(tx_test_new, missing_vect_test, degrees[arg_err_min // 50])"
   ]
  },
  {
   "cell_type": "code",
   "execution_count": 20,
   "metadata": {},
   "outputs": [],
   "source": [
    "OUTPUT_PATH = 'Submission_ridge.csv' # TODO: fill in desired name of output file for submission\n",
    "y_pred = predict_labels(w_opt, phi_test)\n",
    "create_csv_submission(ids_test, y_pred, OUTPUT_PATH)"
   ]
  },
  {
   "cell_type": "markdown",
   "metadata": {
    "jp-MarkdownHeadingCollapsed": true,
    "tags": []
   },
   "source": [
    "## Normal equations"
   ]
  },
  {
   "cell_type": "code",
   "execution_count": 10,
   "metadata": {},
   "outputs": [
    {
     "name": "stdout",
     "output_type": "stream",
     "text": [
      "error  0 :  0.342668\n",
      "error  1 :  0.25318\n",
      "error  2 :  0.225204\n",
      "error  3 :  0.213456\n",
      "error  4 :  0.205384\n",
      "error  5 :  0.201132\n",
      "error  6 :  0.19946\n",
      "error  7 :  0.194336\n",
      "error  8 :  0.186824\n",
      "error  9 :  0.1821\n",
      "error  10 :  0.18106\n",
      "error  11 :  0.186968\n",
      "error  12 :  0.223696\n"
     ]
    },
    {
     "ename": "KeyboardInterrupt",
     "evalue": "",
     "output_type": "error",
     "traceback": [
      "\u001b[0;31m---------------------------------------------------------------------------\u001b[0m",
      "\u001b[0;31mKeyboardInterrupt\u001b[0m                         Traceback (most recent call last)",
      "\u001b[0;32m/tmp/ipykernel_140/620147615.py\u001b[0m in \u001b[0;36m<module>\u001b[0;34m\u001b[0m\n\u001b[1;32m      5\u001b[0m \u001b[0mtx2\u001b[0m\u001b[0;34m,\u001b[0m \u001b[0mmissing_vect2\u001b[0m \u001b[0;34m=\u001b[0m \u001b[0mchange_data_missing\u001b[0m\u001b[0;34m(\u001b[0m\u001b[0mtX\u001b[0m\u001b[0;34m)\u001b[0m\u001b[0;34m\u001b[0m\u001b[0;34m\u001b[0m\u001b[0m\n\u001b[1;32m      6\u001b[0m \u001b[0;32mfor\u001b[0m \u001b[0miter_deg\u001b[0m\u001b[0;34m,\u001b[0m \u001b[0mdegree\u001b[0m \u001b[0;32min\u001b[0m \u001b[0menumerate\u001b[0m\u001b[0;34m(\u001b[0m\u001b[0mdegrees2\u001b[0m\u001b[0;34m)\u001b[0m\u001b[0;34m:\u001b[0m\u001b[0;34m\u001b[0m\u001b[0;34m\u001b[0m\u001b[0m\n\u001b[0;32m----> 7\u001b[0;31m     \u001b[0mphi2\u001b[0m \u001b[0;34m=\u001b[0m \u001b[0mbuild_poly_missing\u001b[0m\u001b[0;34m(\u001b[0m\u001b[0mtx2\u001b[0m\u001b[0;34m,\u001b[0m \u001b[0mmissing_vect2\u001b[0m\u001b[0;34m,\u001b[0m \u001b[0mdegree\u001b[0m\u001b[0;34m)\u001b[0m\u001b[0;34m\u001b[0m\u001b[0;34m\u001b[0m\u001b[0m\n\u001b[0m\u001b[1;32m      8\u001b[0m     \u001b[0mw\u001b[0m \u001b[0;34m=\u001b[0m \u001b[0mnp\u001b[0m\u001b[0;34m.\u001b[0m\u001b[0mlinalg\u001b[0m\u001b[0;34m.\u001b[0m\u001b[0msolve\u001b[0m\u001b[0;34m(\u001b[0m\u001b[0mphi2\u001b[0m\u001b[0;34m.\u001b[0m\u001b[0mT\u001b[0m \u001b[0;34m@\u001b[0m \u001b[0mphi2\u001b[0m\u001b[0;34m,\u001b[0m \u001b[0mphi2\u001b[0m\u001b[0;34m.\u001b[0m\u001b[0mT\u001b[0m \u001b[0;34m@\u001b[0m \u001b[0my\u001b[0m\u001b[0;34m)\u001b[0m\u001b[0;34m\u001b[0m\u001b[0;34m\u001b[0m\u001b[0m\n\u001b[1;32m      9\u001b[0m     \u001b[0merror\u001b[0m \u001b[0;34m=\u001b[0m \u001b[0mcompute_accuracy\u001b[0m\u001b[0;34m(\u001b[0m\u001b[0mw\u001b[0m\u001b[0;34m,\u001b[0m\u001b[0my\u001b[0m\u001b[0;34m,\u001b[0m\u001b[0mphi2\u001b[0m\u001b[0;34m)\u001b[0m\u001b[0;34m\u001b[0m\u001b[0;34m\u001b[0m\u001b[0m\n",
      "\u001b[0;32m~/ML_course/projects/project1/scripts/implementation.py\u001b[0m in \u001b[0;36mbuild_poly_missing\u001b[0;34m(tx, missing, degree)\u001b[0m\n\u001b[1;32m     77\u001b[0m \u001b[0;34m\u001b[0m\u001b[0m\n\u001b[1;32m     78\u001b[0m     \u001b[0;31m# Create polynomial\u001b[0m\u001b[0;34m\u001b[0m\u001b[0;34m\u001b[0m\u001b[0;34m\u001b[0m\u001b[0m\n\u001b[0;32m---> 79\u001b[0;31m     \u001b[0mphi\u001b[0m \u001b[0;34m=\u001b[0m \u001b[0mbuild_poly\u001b[0m\u001b[0;34m(\u001b[0m\u001b[0mtx\u001b[0m\u001b[0;34m,\u001b[0m \u001b[0mdegree\u001b[0m\u001b[0;34m)\u001b[0m\u001b[0;34m\u001b[0m\u001b[0;34m\u001b[0m\u001b[0m\n\u001b[0m\u001b[1;32m     80\u001b[0m     \u001b[0mphi\u001b[0m \u001b[0;34m=\u001b[0m \u001b[0mphi\u001b[0m\u001b[0;34m.\u001b[0m\u001b[0mreshape\u001b[0m\u001b[0;34m(\u001b[0m\u001b[0mN\u001b[0m\u001b[0;34m,\u001b[0m\u001b[0;34m-\u001b[0m\u001b[0;36m1\u001b[0m\u001b[0;34m)\u001b[0m\u001b[0;34m\u001b[0m\u001b[0;34m\u001b[0m\u001b[0m\n\u001b[1;32m     81\u001b[0m     \u001b[0;31m# Add the columns of mising features\u001b[0m\u001b[0;34m\u001b[0m\u001b[0;34m\u001b[0m\u001b[0;34m\u001b[0m\u001b[0m\n",
      "\u001b[0;32m~/ML_course/projects/project1/scripts/implementation.py\u001b[0m in \u001b[0;36mbuild_poly\u001b[0;34m(x, degree)\u001b[0m\n\u001b[1;32m     68\u001b[0m     \u001b[0;32mfor\u001b[0m \u001b[0mi\u001b[0m \u001b[0;32min\u001b[0m \u001b[0mrange\u001b[0m\u001b[0;34m(\u001b[0m\u001b[0;36m1\u001b[0m\u001b[0;34m,\u001b[0m\u001b[0mdegree\u001b[0m\u001b[0;34m+\u001b[0m\u001b[0;36m1\u001b[0m\u001b[0;34m)\u001b[0m\u001b[0;34m:\u001b[0m\u001b[0;34m\u001b[0m\u001b[0;34m\u001b[0m\u001b[0m\n\u001b[1;32m     69\u001b[0m         \u001b[0mx_next\u001b[0m \u001b[0;34m=\u001b[0m \u001b[0mx\u001b[0m\u001b[0;34m**\u001b[0m\u001b[0mi\u001b[0m\u001b[0;34m\u001b[0m\u001b[0;34m\u001b[0m\u001b[0m\n\u001b[0;32m---> 70\u001b[0;31m         \u001b[0mphi\u001b[0m \u001b[0;34m=\u001b[0m \u001b[0mnp\u001b[0m\u001b[0;34m.\u001b[0m\u001b[0mconcatenate\u001b[0m\u001b[0;34m(\u001b[0m\u001b[0;34m(\u001b[0m\u001b[0mphi\u001b[0m\u001b[0;34m,\u001b[0m \u001b[0mx_next\u001b[0m\u001b[0;34m)\u001b[0m\u001b[0;34m,\u001b[0m \u001b[0maxis\u001b[0m \u001b[0;34m=\u001b[0m \u001b[0;36m1\u001b[0m\u001b[0;34m)\u001b[0m\u001b[0;34m\u001b[0m\u001b[0;34m\u001b[0m\u001b[0m\n\u001b[0m\u001b[1;32m     71\u001b[0m     \u001b[0;32mreturn\u001b[0m \u001b[0mphi\u001b[0m\u001b[0;34m\u001b[0m\u001b[0;34m\u001b[0m\u001b[0m\n\u001b[1;32m     72\u001b[0m     \u001b[0;32mraise\u001b[0m \u001b[0mNotImplementedError\u001b[0m\u001b[0;34m\u001b[0m\u001b[0;34m\u001b[0m\u001b[0m\n",
      "\u001b[0;32m<__array_function__ internals>\u001b[0m in \u001b[0;36mconcatenate\u001b[0;34m(*args, **kwargs)\u001b[0m\n",
      "\u001b[0;31mKeyboardInterrupt\u001b[0m: "
     ]
    }
   ],
   "source": [
    "from implementation import *\n",
    "degrees2 = np.arange(15)\n",
    "Weights2 = []\n",
    "errors2 = []\n",
    "tx2, missing_vect2 = change_data_missing(tX)\n",
    "for iter_deg, degree in enumerate(degrees2):\n",
    "    phi2 = build_poly_missing(tx2, missing_vect2, degree)\n",
    "    w = np.linalg.solve(phi2.T @ phi2, phi2.T @ y)\n",
    "    error = compute_accuracy(w,y,phi2)\n",
    "    print(\"error \", iter_deg, \": \", error)\n",
    "    Weights2.append(w)\n",
    "    errors2.append(error)\n",
    "m = np.argmin(errors2)\n",
    "w_opt2 = Weights2[m]"
   ]
  },
  {
   "cell_type": "code",
   "execution_count": null,
   "metadata": {},
   "outputs": [],
   "source": [
    "tx_test2, missing_vect_test2= change_data_missing(tX_test)\n",
    "phi_test2 = build_poly(tx_test, missing_vect_test, degrees2[m])"
   ]
  },
  {
   "cell_type": "code",
   "execution_count": null,
   "metadata": {},
   "outputs": [],
   "source": [
    "OUTPUT_PATH = 'submission_normal_eq.csv' # TODO: fill in desired name of output file for submission\n",
    "y_pred2 = predict_labels(w_opt2, phi_test2)\n",
    "create_csv_submission(ids_test, y_pred2, OUTPUT_PATH)"
   ]
  },
  {
   "cell_type": "markdown",
   "metadata": {
    "jp-MarkdownHeadingCollapsed": true,
    "tags": []
   },
   "source": [
    "## Generate predictions and save ouput in csv format for submission:"
   ]
  },
  {
   "cell_type": "code",
   "execution_count": 15,
   "metadata": {},
   "outputs": [],
   "source": [
    "tx_test, missing_test = change_data_missing(tX_test)\n",
    "phi_test = build_poly_missing(tx_test, missing_test, degrees[m])"
   ]
  },
  {
   "cell_type": "code",
   "execution_count": 16,
   "metadata": {
    "collapsed": false,
    "jupyter": {
     "outputs_hidden": false
    }
   },
   "outputs": [],
   "source": [
    "OUTPUT_PATH = 'submission_normal_eq_std.csv' # TODO: fill in desired name of output file for submission\n",
    "y_pred_std = predict_labels(w_opt, phi_test)\n",
    "create_csv_submission(ids_test, y_pred, OUTPUT_PATH)"
   ]
  },
  {
   "cell_type": "code",
   "execution_count": null,
   "metadata": {},
   "outputs": [],
   "source": []
  }
 ],
 "metadata": {
  "anaconda-cloud": {},
  "kernelspec": {
   "display_name": "Python",
   "language": "python",
   "name": "python3"
  },
  "language_info": {
   "codemirror_mode": {
    "name": "ipython",
    "version": 3
   },
   "file_extension": ".py",
   "mimetype": "text/x-python",
   "name": "python",
   "nbconvert_exporter": "python",
   "pygments_lexer": "ipython3",
   "version": "3.8.10"
  }
 },
 "nbformat": 4,
 "nbformat_minor": 4
}
